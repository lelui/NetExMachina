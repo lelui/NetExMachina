{
  "nbformat": 4,
  "nbformat_minor": 0,
  "metadata": {
    "colab": {
      "name": "Untitled0.ipynb",
      "provenance": [],
      "collapsed_sections": [],
      "authorship_tag": "ABX9TyPkap+k7CkhD0VDLfRMK7ja",
      "include_colab_link": true
    },
    "kernelspec": {
      "name": "python3",
      "display_name": "Python 3"
    },
    "accelerator": "GPU"
  },
  "cells": [
    {
      "cell_type": "markdown",
      "metadata": {
        "id": "view-in-github",
        "colab_type": "text"
      },
      "source": [
        "<a href=\"https://colab.research.google.com/github/lelui/NetExMachina/blob/master/Untitled0.ipynb\" target=\"_parent\"><img src=\"https://colab.research.google.com/assets/colab-badge.svg\" alt=\"Open In Colab\"/></a>"
      ]
    },
    {
      "cell_type": "code",
      "metadata": {
        "id": "eTxldNWenb4O",
        "colab_type": "code",
        "colab": {
          "base_uri": "https://localhost:8080/",
          "height": 34
        },
        "outputId": "c52c7ff9-f84c-467f-8330-35a514488c67"
      },
      "source": [
        "import torch\n",
        "#c=torch.device(\"cuda\")\n",
        "x = torch.rand(100001,10000)\n",
        "w = torch.rand(10000, 50, requires_grad=True)\n",
        "\n",
        "y=x@w\n",
        "l = y.sum()\n",
        "print(l)\n",
        "l.backward()\n",
        "w=w-w.grad*0.0001\n",
        "l=(x@w).sum()"
      ],
      "execution_count": null,
      "outputs": [
        {
          "output_type": "stream",
          "text": [
            "tensor(1.2502e+10, grad_fn=<SumBackward0>)\n"
          ],
          "name": "stdout"
        }
      ]
    }
  ]
}